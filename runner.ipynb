{
 "cells": [
  {
   "cell_type": "markdown",
   "metadata": {},
   "source": [
    "# Create sentence transformer embeddings:\n",
    "Please create a new folder in the root (travel-vertical) called \"embeddings\""
   ]
  },
  {
   "cell_type": "code",
   "execution_count": null,
   "metadata": {},
   "outputs": [],
   "source": [
    "# create sentence transformer embeddings\n",
    "!python -m src.Embedder.embedderRunner -d data/clean_destination_air_canada_xml/ -o embeddings/ --emb_type st \n",
    "# create GPT embeddings\n",
    "!python -m src.Embedder.embedderRunner -d data/clean_destination_air_canada_xml/ -o embeddings/ --emb_type gpt"
   ]
  },
  {
   "cell_type": "markdown",
   "metadata": {},
   "source": [
    "# Process the query:\n",
    "1. The queries are stored in data/quries.txt\n",
    "2. Please create a folder in the root (travel-vertical) called \"output\"\n",
    "3. Please choose your mode to process queries in MODE = {\"expand\", \"reformulate\", \"elaborate\"} or None (directly )."
   ]
  },
  {
   "cell_type": "code",
   "execution_count": null,
   "metadata": {},
   "outputs": [],
   "source": [
    "!python -m src.QueryProcessor.queryProcessorRunner -i data/queries.txt -o output/ --mode elaborate"
   ]
  },
  {
   "cell_type": "markdown",
   "metadata": {},
   "source": [
    "# Run dense retriever:\n",
    "1. query path is the proceesed queries' path from last stage.\n",
    "2. Please check if you are using the same embedding type with the first stage, i.e. GPT embedding can only process with GPT embedding, same as others.\n"
   ]
  },
  {
   "cell_type": "code",
   "execution_count": null,
   "metadata": {},
   "outputs": [],
   "source": [
    "!python -m src.Retriever.retrieverRunner -q output/processed_query_elaborate.pkl -e embeddings/text-embedding-3-small/ -m GPT -o output/"
   ]
  },
  {
   "cell_type": "markdown",
   "metadata": {},
   "source": [
    "# Preview results of the first stage (Top 50 cities with their scores and top chunks)"
   ]
  },
  {
   "cell_type": "code",
   "execution_count": null,
   "metadata": {},
   "outputs": [],
   "source": [
    "!python src.Retriever.firstPassRetriever.py"
   ]
  }
 ],
 "metadata": {
  "kernelspec": {
   "display_name": "pytorch",
   "language": "python",
   "name": "python3"
  },
  "language_info": {
   "codemirror_mode": {
    "name": "ipython",
    "version": 3
   },
   "file_extension": ".py",
   "mimetype": "text/x-python",
   "name": "python",
   "nbconvert_exporter": "python",
   "pygments_lexer": "ipython3",
   "version": "3.11.5"
  }
 },
 "nbformat": 4,
 "nbformat_minor": 2
}
